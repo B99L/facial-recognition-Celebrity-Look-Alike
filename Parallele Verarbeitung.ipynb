{
 "cells": [
  {
   "cell_type": "markdown",
   "id": "32a1afcd",
   "metadata": {},
   "source": [
    "Welcome to the collaborative Spark environment in ZHAW. You are not yet connected to Sparky by default. However, the necessary code template makes this a quick process. Keep in mind that you are sharing both the Jupyter environment and the Sparky cluster with others."
   ]
  },
  {
   "cell_type": "code",
   "execution_count": null,
   "id": "e4cd3e60",
   "metadata": {},
   "outputs": [],
   "source": [
    "import sparky\n",
    "import pyspark\n",
    "import pyspark.sql\n",
    "import shutil\n",
    "import os\n",
    "from pyspark import SparkContext, SparkConf\n",
    "sc = sparky.connect(\"sparknotebook-...\", 2)\n",
    "spark = pyspark.sql.SparkSession.builder.getOrCreate()\n"
   ]
  },
  {
   "cell_type": "code",
   "execution_count": null,
   "id": "9fbd660b",
   "metadata": {},
   "outputs": [],
   "source": [
    "# Installing Deepface and Numpy"
   ]
  },
  {
   "cell_type": "code",
   "execution_count": null,
   "id": "edd3de27",
   "metadata": {},
   "outputs": [],
   "source": [
    "%pip install Deepface\n",
    "%pip install numpy\n",
    "%pip install plotly"
   ]
  },
  {
   "cell_type": "code",
   "execution_count": null,
   "id": "8f061717",
   "metadata": {},
   "outputs": [],
   "source": [
    "import pandas as pd\n",
    "import csv\n",
    "# Lesen Sie die Textdatei in ein DataFrame\n",
    "df = pd.read_csv('list_identity_celeba.txt', sep=\"   \", header=0) \n",
    "df = df.rename(columns={'  identity_name': 'identity_name'})\n",
    "df['image_id'].to_csv('image_id.csv', index=False, header=True)\n"
   ]
  },
  {
   "cell_type": "markdown",
   "id": "68cc8b27",
   "metadata": {},
   "source": [
    "# \"Install dependencies for deepface and numpy\""
   ]
  },
  {
   "cell_type": "code",
   "execution_count": null,
   "id": "7661f088",
   "metadata": {},
   "outputs": [],
   "source": [
    "def installdeps1(ignore_arg):\n",
    "    import os\n",
    "    import sys\n",
    "    pkg=\"numpy\"\n",
    "    pkgpath = \"worker-packages\"\n",
    "    if not os.path.isdir(pkgpath):\n",
    "        print(\"Setting up virtual environment for packages... please be patient\", file=sys.stderr, flush=True)\n",
    "        import venv\n",
    "        venv.create(pkgpath, with_pip=True)\n",
    "    pip = os.path.join(pkgpath, \"bin\", \"pip\")\n",
    "    os.system(f\"{pip} install '{pkg}'\")\n",
    "    if not pkgpath in sys.path:\n",
    "        major = sys.version_info.major\n",
    "        minor = sys.version_info.minor\n",
    "        sys.path.append(os.path.join(pkgpath, \"lib\", f\"python{major}.{minor}\", \"site-packages\"))\n",
    "    return 1\n",
    "\n",
    "def installdeps2(ignore_arg):\n",
    "    import os\n",
    "    import sys\n",
    "    pkg=\"deepface\"\n",
    "    pkgpath = \"worker-packages\"\n",
    "    if not os.path.isdir(pkgpath):\n",
    "        print(\"Setting up virtual environment for packages... please be patient\", file=sys.stderr, flush=True)\n",
    "        import venv\n",
    "        venv.create(pkgpath, with_pip=True)\n",
    "    pip = os.path.join(pkgpath, \"bin\", \"pip\")\n",
    "    os.system(f\"{pip} install '{pkg}'\")\n",
    "    if not pkgpath in sys.path:\n",
    "        major = sys.version_info.major\n",
    "        minor = sys.version_info.minor\n",
    "        sys.path.append(os.path.join(pkgpath, \"lib\", f\"python{major}.{minor}\", \"site-packages\"))\n",
    "    return 1\n",
    "\n",
    "\n"
   ]
  },
  {
   "cell_type": "code",
   "execution_count": null,
   "id": "6f0596b1",
   "metadata": {},
   "outputs": [],
   "source": [
    "import os\n",
    "# Partitionen erzeugen und einsammeln\n",
    "liste = range(16)\n",
    "rdd = sc.parallelize(liste)\n",
    "\n",
    "print(rdd.collect())\n",
    "print(rdd.glom().collect())"
   ]
  },
  {
   "cell_type": "code",
   "execution_count": null,
   "id": "d334a52d",
   "metadata": {},
   "outputs": [],
   "source": [
    "# Hier müssen alle Partitionen gefüllt sein mit mindestens einem Wert\n",
    "# Wir können das auch automatisiert prüfen (mind. 16 auf Azure-Konfiguration):\n",
    "if len(list(filter(lambda x: x == [], rdd.glom().collect()))):\n",
    "    raise SystemExit(\"Nicht gut - einige Worker bleiben ohne Softwareinstallation.\")"
   ]
  },
  {
   "cell_type": "code",
   "execution_count": null,
   "id": "e3eecdd5",
   "metadata": {},
   "outputs": [],
   "source": [
    "rdd.map(installdeps1).collect()\n",
    "rdd.map(installdeps2).collect()"
   ]
  },
  {
   "cell_type": "markdown",
   "id": "1950f655",
   "metadata": {},
   "source": [
    "# Parallele Gesichtsmerkmalsextraktion und Geschlechtsanalyse auf einer Bildersammlung"
   ]
  },
  {
   "cell_type": "code",
   "execution_count": null,
   "id": "854e2ba4",
   "metadata": {},
   "outputs": [],
   "source": [
    "# Importieren der notwendigen Module und Bibliotheken\n",
    "import os\n",
    "import shutil\n",
    "import pandas as pd\n",
    "from deepface import DeepFace\n",
    "import numpy as np\n",
    "import ast\n",
    "import time\n",
    "import csv\n",
    "import json\n",
    "\n",
    "\n",
    "# Definition einer Funktion, um jedes Bild zu verarbeiten\n",
    "def process_image(img_file):\n",
    "    import os\n",
    "    import sys\n",
    "    pkgpath = \"worker-packages\"\n",
    "\n",
    "    # Überprüfen, ob der Paketpfad bereits im Systempfad vorhanden ist\n",
    "    if not pkgpath in sys.path:\n",
    "        major = sys.version_info.major\n",
    "        minor = sys.version_info.minor\n",
    "        # Wenn nicht, fügen Sie es zum Systempfad hinzu\n",
    "        sys.path.append(os.path.join(pkgpath, \"lib\", f\"python{major}.{minor}\", \"site-packages\"))\n",
    "    from deepface import DeepFace   \n",
    "    img_path = '/home/ubuntu/work/datascience-fs23/Bader_Marc_Nevio/archive3/img_align_celeba/' + img_file\n",
    "    # Extrahieren der Gesichtsmerkmale mit DeepFace\n",
    "    facial_vec = DeepFace.represent(img_path, detector_backend=\"mtcnn\", enforce_detection=False, model_name=\"Facenet\")\n",
    "    # Durchführen einer Geschlechtsanalyse mit DeepFace\n",
    "    gender_result = DeepFace.analyze(img_path=img_path, actions=['gender'], enforce_detection=False)\n",
    "    gender = gender_result[0][\"dominant_gender\"]    \n",
    "    return (img_file, list(facial_vec[0]['embedding']), gender)\n",
    "\n",
    "# Zeitmessung für die Ausführung beginnen\n",
    "start_time = time.time()\n",
    "# Lesen der 'image_id.csv'-Datei und Extrahieren der Bildnamen\n",
    "with open('image_id.csv', 'r') as f:\n",
    "    reader = csv.DictReader(f)\n",
    "    img_files = [row['image_id'] for row in reader]\n",
    "img_files=img_files[0:10000]\n",
    "\n",
    "# Konvertieren der Liste der Bild-Dateinamen in ein RDD (Resilient Distributed Dataset)\n",
    "img_files_rdd = sc.parallelize(img_files)\n",
    "\n",
    "# Anwenden der Verarbeitungsfunktion auf jedes Element des RDD\n",
    "data_rdd = img_files_rdd.map(process_image)\n",
    "\n",
    "# Sammeln der Ergebnisse und Konvertieren in ein Numpy-Array\n",
    "data_array = list(data_rdd.collect())\n",
    "\n",
    "# Zeitmessung für die Ausführung beenden\n",
    "end_time = time.time()\n",
    "\n",
    "# Berechnen und Ausgeben der verstrichenen Zeit\n",
    "features_extraction_spark = end_time - start_time\n",
    "\n",
    "# Speichern der Daten in einer CSV-Datei\n",
    "with open('my_data.csv', 'w', newline='') as f:\n",
    "    writer = csv.writer(f)\n",
    "    writer.writerow(['img_file', 'facial_vec', 'gender'])\n",
    "    for row in data_array:\n",
    "        writer.writerow(row)\n"
   ]
  }
 ],
 "metadata": {
  "kernelspec": {
   "display_name": "Python 3 (ipykernel)",
   "language": "python",
   "name": "python3"
  },
  "language_info": {
   "codemirror_mode": {
    "name": "ipython",
    "version": 3
   },
   "file_extension": ".py",
   "mimetype": "text/x-python",
   "name": "python",
   "nbconvert_exporter": "python",
   "pygments_lexer": "ipython3",
   "version": "3.11.2"
  }
 },
 "nbformat": 4,
 "nbformat_minor": 5
}
